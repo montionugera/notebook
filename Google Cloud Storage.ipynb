{
 "cells": [
  {
   "cell_type": "code",
   "execution_count": 2,
   "metadata": {},
   "outputs": [],
   "source": [
    "secret_path =  \"secret/googleServiceAcc.json\""
   ]
  },
  {
   "cell_type": "code",
   "execution_count": 3,
   "metadata": {},
   "outputs": [],
   "source": [
    "import pprint"
   ]
  },
  {
   "cell_type": "code",
   "execution_count": 16,
   "metadata": {},
   "outputs": [],
   "source": [
    "from google.api_core.exceptions import Forbidden"
   ]
  },
  {
   "cell_type": "code",
   "execution_count": 7,
   "metadata": {},
   "outputs": [
    {
     "name": "stdout",
     "output_type": "stream",
     "text": [
      "[]\n"
     ]
    }
   ],
   "source": [
    "from google.cloud import storage\n",
    "\n",
    "# If you don't specify credentials when constructing the client, the\n",
    "# client library will look for credentials in the environment.\n",
    "storage_client = storage.Client.from_service_account_json(secret_path)\n",
    "\"\"\n",
    "# Make an authenticated API request\n",
    "buckets = list(storage_client.list_buckets())\n",
    "print(buckets)"
   ]
  },
  {
   "cell_type": "code",
   "execution_count": 27,
   "metadata": {},
   "outputs": [],
   "source": [
    "def bucket_metadata(bucket_name):\n",
    "    \"\"\"Prints out a bucket's metadata.\"\"\"\n",
    "    # bucket_name = 'your-bucket-name'\n",
    "    try:\n",
    "        bucket = storage_client.get_bucket(bucket_name)\n",
    "    except:\n",
    "        print(\" not found bucket %s\"%bucket_name )\n",
    "        bucket = storage_client.create_bucket(bucket_name)\n",
    "        print(\"Bucket {} created\".format(bucket.name))\n",
    "\n",
    "    print(\"ID: {}\".format(bucket.id))\n",
    "    print(\"Name: {}\".format(bucket.name))\n",
    "    print(\"Storage Class: {}\".format(bucket.storage_class))\n",
    "    print(\"Location: {}\".format(bucket.location))\n",
    "    print(\"Location Type: {}\".format(bucket.location_type))\n",
    "    print(\"Cors: {}\".format(bucket.cors))\n",
    "    print(\n",
    "        \"Default Event Based Hold: {}\".format(bucket.default_event_based_hold)\n",
    "    )\n",
    "    print(\"Default KMS Key Name: {}\".format(bucket.default_kms_key_name))\n",
    "    print(\"Metageneration: {}\".format(bucket.metageneration))\n",
    "    print(\n",
    "        \"Retention Effective Time: {}\".format(\n",
    "            bucket.retention_policy_effective_time\n",
    "        )\n",
    "    )\n",
    "    print(\"Retention Period: {}\".format(bucket.retention_period))\n",
    "    print(\"Retention Policy Locked: {}\".format(bucket.retention_policy_locked))\n",
    "    print(\"Requester Pays: {}\".format(bucket.requester_pays))\n",
    "    print(\"Self Link: {}\".format(bucket.self_link))\n",
    "    print(\"Time Created: {}\".format(bucket.time_created))\n",
    "    print(\"Versioning Enabled: {}\".format(bucket.versioning_enabled))\n",
    "    print(\"Labels:\")\n",
    "    pprint.pprint(bucket.labels)"
   ]
  },
  {
   "cell_type": "code",
   "execution_count": 32,
   "metadata": {},
   "outputs": [],
   "source": [
    "import uuid\n",
    "\n",
    "bucket_name = \"cat-\"+str(uuid.uuid4())[:8]"
   ]
  },
  {
   "cell_type": "code",
   "execution_count": 33,
   "metadata": {},
   "outputs": [
    {
     "name": "stdout",
     "output_type": "stream",
     "text": [
      " not found bucket cat-bd86b6fb\n",
      "Bucket cat-bd86b6fb created\n",
      "ID: cat-bd86b6fb\n",
      "Name: cat-bd86b6fb\n",
      "Storage Class: STANDARD\n",
      "Location: US\n",
      "Location Type: multi-region\n",
      "Cors: []\n",
      "Default Event Based Hold: None\n",
      "Default KMS Key Name: None\n",
      "Metageneration: 1\n",
      "Retention Effective Time: None\n",
      "Retention Period: None\n",
      "Retention Policy Locked: None\n",
      "Requester Pays: False\n",
      "Self Link: https://www.googleapis.com/storage/v1/b/cat-bd86b6fb\n",
      "Time Created: 2020-01-06 09:18:12.108000+00:00\n",
      "Versioning Enabled: False\n",
      "Labels:\n",
      "{}\n"
     ]
    }
   ],
   "source": [
    "bucket_metadata(bucket_name)"
   ]
  },
  {
   "cell_type": "code",
   "execution_count": 35,
   "metadata": {},
   "outputs": [],
   "source": [
    "def upload_blob(bucket_name, source_file_name, destination_blob_name):\n",
    "    \"\"\"Uploads a file to the bucket.\"\"\"\n",
    "    # bucket_name = \"your-bucket-name\"\n",
    "    # source_file_name = \"local/path/to/file\"\n",
    "    # destination_blob_name = \"storage-object-name\"\n",
    "\n",
    "    bucket = storage_client.bucket(bucket_name)\n",
    "    blob = bucket.blob(destination_blob_name)\n",
    "\n",
    "    blob.upload_from_filename(source_file_name)\n",
    "\n",
    "    print(\n",
    "        \"File {} uploaded to {}.\".format(\n",
    "            source_file_name, destination_blob_name\n",
    "        )\n",
    "    )"
   ]
  },
  {
   "cell_type": "code",
   "execution_count": 36,
   "metadata": {},
   "outputs": [
    {
     "name": "stdout",
     "output_type": "stream",
     "text": [
      "File resource/cat.jpg uploaded to cat.jpg.\n"
     ]
    }
   ],
   "source": [
    "source_file_name = \"resource/cat.jpg\"\n",
    "destination_blob_name = \"cat.jpg\"\n",
    "upload_blob(bucket_name, source_file_name, destination_blob_name)"
   ]
  },
  {
   "cell_type": "code",
   "execution_count": 37,
   "metadata": {},
   "outputs": [
    {
     "name": "stdout",
     "output_type": "stream",
     "text": [
      "Blob cat.jpg is publicly accessible at https://storage.googleapis.com/cat-bd86b6fb/cat.jpg\n"
     ]
    }
   ],
   "source": [
    "\n",
    "\n",
    "def make_blob_public(bucket_name, blob_name):\n",
    "    \"\"\"Makes a blob publicly accessible.\"\"\"\n",
    "    # bucket_name = \"your-bucket-name\"\n",
    "    # blob_name = \"your-object-name\"\n",
    "    bucket = storage_client.bucket(bucket_name)\n",
    "    blob = bucket.blob(blob_name)\n",
    "\n",
    "    blob.make_public()\n",
    "\n",
    "    print(\n",
    "        \"Blob {} is publicly accessible at {}\".format(\n",
    "            blob.name, blob.public_url\n",
    "        )\n",
    "    )\n",
    "make_blob_public(bucket_name, destination_blob_name)"
   ]
  },
  {
   "cell_type": "code",
   "execution_count": 38,
   "metadata": {},
   "outputs": [
    {
     "name": "stdout",
     "output_type": "stream",
     "text": [
      "Blob cat.jpg deleted.\n"
     ]
    }
   ],
   "source": [
    "def delete_blob(bucket_name, blob_name):\n",
    "    \"\"\"Deletes a blob from the bucket.\"\"\"\n",
    "    # bucket_name = \"your-bucket-name\"\n",
    "    # blob_name = \"your-object-name\"\n",
    "\n",
    "    bucket = storage_client.bucket(bucket_name)\n",
    "    blob = bucket.blob(blob_name)\n",
    "    blob.delete()\n",
    "\n",
    "    print(\"Blob {} deleted.\".format(blob_name))\n",
    "    \n",
    "delete_blob(bucket_name, destination_blob_name)"
   ]
  },
  {
   "cell_type": "code",
   "execution_count": 39,
   "metadata": {},
   "outputs": [
    {
     "name": "stdout",
     "output_type": "stream",
     "text": [
      "Bucket cat-bd86b6fb deleted\n"
     ]
    }
   ],
   "source": [
    "\n",
    "def delete_bucket(bucket_name):\n",
    "    \"\"\"Deletes a bucket. The bucket must be empty.\"\"\"\n",
    "    # bucket_name = \"your-bucket-name\"\n",
    "\n",
    "    bucket = storage_client.get_bucket(bucket_name)\n",
    "    bucket.delete()\n",
    "\n",
    "    print(\"Bucket {} deleted\".format(bucket.name))\n",
    "    \n",
    "delete_bucket(bucket_name)\n"
   ]
  }
 ],
 "metadata": {
  "kernelspec": {
   "display_name": "Python [conda env:py3]",
   "language": "python",
   "name": "conda-env-py3-py"
  },
  "language_info": {
   "codemirror_mode": {
    "name": "ipython",
    "version": 3
   },
   "file_extension": ".py",
   "mimetype": "text/x-python",
   "name": "python",
   "nbconvert_exporter": "python",
   "pygments_lexer": "ipython3",
   "version": "3.6.3"
  }
 },
 "nbformat": 4,
 "nbformat_minor": 2
}
